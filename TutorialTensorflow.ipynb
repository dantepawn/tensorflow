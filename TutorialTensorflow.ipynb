{
  "nbformat": 4,
  "nbformat_minor": 0,
  "metadata": {
    "colab": {
      "name": "TutorialTensorflow.ipynb",
      "provenance": [],
      "private_outputs": true,
      "collapsed_sections": [
        "rX8mhOLljYeM"
      ],
      "include_colab_link": true
    },
    "kernelspec": {
      "display_name": "Python 3",
      "name": "python3"
    }
  },
  "cells": [
    {
      "cell_type": "markdown",
      "metadata": {
        "id": "view-in-github",
        "colab_type": "text"
      },
      "source": [
        "<a href=\"https://colab.research.google.com/github/dantepawn/tensorflow/blob/master/TutorialTensorflow.ipynb\" target=\"_parent\"><img src=\"https://colab.research.google.com/assets/colab-badge.svg\" alt=\"Open In Colab\"/></a>"
      ]
    },
    {
      "cell_type": "markdown",
      "metadata": {
        "colab_type": "text",
        "id": "rX8mhOLljYeM"
      },
      "source": [
        "##### Copyright 2019 The TensorFlow Authors."
      ]
    },
    {
      "cell_type": "code",
      "metadata": {
        "cellView": "form",
        "colab_type": "code",
        "id": "BZSlp3DAjdYf",
        "colab": {}
      },
      "source": [
        "#@title Licensed under the Apache License, Version 2.0 (the \"License\");\n",
        "# you may not use this file except in compliance with the License.\n",
        "# You may obtain a copy of the License at\n",
        "#\n",
        "# https://www.apache.org/licenses/LICENSE-2.0\n",
        "#\n",
        "# Unless required by applicable law or agreed to in writing, software\n",
        "# distributed under the License is distributed on an \"AS IS\" BASIS,\n",
        "# WITHOUT WARRANTIES OR CONDITIONS OF ANY KIND, either express or implied.\n",
        "# See the License for the specific language governing permissions and\n",
        "# limitations under the License."
      ],
      "execution_count": 0,
      "outputs": []
    },
    {
      "cell_type": "markdown",
      "metadata": {
        "colab_type": "text",
        "id": "3wF5wszaj97Y"
      },
      "source": [
        "# TensorFlow 2 quickstart for beginners"
      ]
    },
    {
      "cell_type": "markdown",
      "metadata": {
        "colab_type": "text",
        "id": "DUNzJc4jTj6G"
      },
      "source": [
        "<table class=\"tfo-notebook-buttons\" align=\"left\">\n",
        "  <td>\n",
        "    <a target=\"_blank\" href=\"https://www.tensorflow.org/tutorials/quickstart/beginner\"><img src=\"https://www.tensorflow.org/images/tf_logo_32px.png\" />View on TensorFlow.org</a>\n",
        "  </td>\n",
        "  <td>\n",
        "    <a target=\"_blank\" href=\"https://colab.research.google.com/github/tensorflow/docs/blob/master/site/en/tutorials/quickstart/beginner.ipynb\"><img src=\"https://www.tensorflow.org/images/colab_logo_32px.png\" />Run in Google Colab</a>\n",
        "  </td>\n",
        "  <td>\n",
        "    <a target=\"_blank\" href=\"https://github.com/tensorflow/docs/blob/master/site/en/tutorials/quickstart/beginner.ipynb\"><img src=\"https://www.tensorflow.org/images/GitHub-Mark-32px.png\" />View source on GitHub</a>\n",
        "  </td>\n",
        "  <td>\n",
        "    <a href=\"https://storage.googleapis.com/tensorflow_docs/docs/site/en/tutorials/quickstart/beginner.ipynb\"><img src=\"https://www.tensorflow.org/images/download_logo_32px.png\" />Download notebook</a>\n",
        "  </td>\n",
        "</table>"
      ]
    },
    {
      "cell_type": "markdown",
      "metadata": {
        "colab_type": "text",
        "id": "04QgGZc9bF5D"
      },
      "source": [
        "This short introduction uses [Keras](https://www.tensorflow.org/guide/keras/overview) to:\n",
        "\n",
        "1. Build a neural network that classifies images.\n",
        "2. Train this neural network.\n",
        "3. And, finally, evaluate the accuracy of the model."
      ]
    },
    {
      "cell_type": "markdown",
      "metadata": {
        "colab_type": "text",
        "id": "hiH7AC-NTniF"
      },
      "source": [
        "This is a [Google Colaboratory](https://colab.research.google.com/notebooks/welcome.ipynb) notebook file. Python programs are run directly in the browser—a great way to learn and use TensorFlow. To follow this tutorial, run the notebook in Google Colab by clicking the button at the top of this page.\n",
        "\n",
        "1. In Colab, connect to a Python runtime: At the top-right of the menu bar, select *CONNECT*.\n",
        "2. Run all the notebook code cells: Select *Runtime* > *Run all*."
      ]
    },
    {
      "cell_type": "markdown",
      "metadata": {
        "colab_type": "text",
        "id": "nnrWf3PCEzXL"
      },
      "source": [
        "Download and install the TensorFlow 2 package. Import TensorFlow into your program:"
      ]
    },
    {
      "cell_type": "code",
      "metadata": {
        "id": "rzHodwh4zc1e",
        "colab_type": "code",
        "colab": {}
      },
      "source": [
        ""
      ],
      "execution_count": 0,
      "outputs": []
    },
    {
      "cell_type": "markdown",
      "metadata": {
        "id": "ASTbRc7Tzfib",
        "colab_type": "text"
      },
      "source": [
        "# Libraries"
      ]
    },
    {
      "cell_type": "code",
      "metadata": {
        "colab_type": "code",
        "id": "0trJmd6DjqBZ",
        "colab": {}
      },
      "source": [
        "from __future__ import absolute_import, division, print_function, unicode_literals\n",
        "\n",
        "# Install TensorFlow\n",
        "try:\n",
        "  # %tensorflow_version only exists in Colab.\n",
        "  %tensorflow_version 2.x\n",
        "except Exception:\n",
        "  pass"
      ],
      "execution_count": 0,
      "outputs": []
    },
    {
      "cell_type": "code",
      "metadata": {
        "id": "4G_KevbFy3lB",
        "colab_type": "code",
        "colab": {}
      },
      "source": [
        "#Standard\n",
        "import numpy as np\n",
        "import pandas as pd\n",
        "import matplotlib.pyplot as plt\n",
        "import seaborn as sn\n",
        "import pathlib\n",
        "#ML\n",
        "import tensorflow as tf\n",
        "from tensorflow import keras\n",
        "#Datasets and Model transfer\n",
        "import tensorflow_hub as hub\n",
        "import tensorflow_datasets as tfds"
      ],
      "execution_count": 0,
      "outputs": []
    },
    {
      "cell_type": "markdown",
      "metadata": {
        "colab_type": "text",
        "id": "7NAbSZiaoJ4z"
      },
      "source": [
        "Load and prepare the [MNIST dataset](http://yann.lecun.com/exdb/mnist/). Convert the samples from integers to floating-point numbers:"
      ]
    },
    {
      "cell_type": "code",
      "metadata": {
        "colab_type": "code",
        "id": "7FP5258xjs-v",
        "colab": {}
      },
      "source": [
        "mnist = tf.keras.datasets.mnist\n",
        "\n",
        "(x_train, y_train), (x_test, y_test) = mnist.load_data()\n",
        "x_train, x_test = x_train / 255.0, x_test / 255.0"
      ],
      "execution_count": 0,
      "outputs": []
    },
    {
      "cell_type": "markdown",
      "metadata": {
        "colab_type": "text",
        "id": "BPZ68wASog_I"
      },
      "source": [
        "Build the `tf.keras.Sequential` model by stacking layers. Choose an optimizer and loss function for training:"
      ]
    },
    {
      "cell_type": "code",
      "metadata": {
        "colab_type": "code",
        "id": "h3IKyzTCDNGo",
        "colab": {}
      },
      "source": [
        "model = tf.keras.models.Sequential([\n",
        "  tf.keras.layers.Flatten(input_shape=(28, 28)),\n",
        "  tf.keras.layers.Dense(128, activation='relu'),\n",
        "  tf.keras.layers.Dropout(0.2),\n",
        "  tf.keras.layers.Dense(10, activation='softmax')\n",
        "])\n",
        "\n",
        "model.compile(optimizer='adam',\n",
        "              loss='sparse_categorical_crossentropy',\n",
        "              metrics=['accuracy'])"
      ],
      "execution_count": 0,
      "outputs": []
    },
    {
      "cell_type": "markdown",
      "metadata": {
        "colab_type": "text",
        "id": "ix4mEL65on-w"
      },
      "source": [
        "Train and evaluate the model:"
      ]
    },
    {
      "cell_type": "code",
      "metadata": {
        "colab_type": "code",
        "id": "F7dTAzgHDUh7",
        "colab": {}
      },
      "source": [
        "model.fit(x_train, y_train, epochs=5)\n",
        "\n",
        "model.evaluate(x_test,  y_test, verbose=2)"
      ],
      "execution_count": 0,
      "outputs": []
    },
    {
      "cell_type": "markdown",
      "metadata": {
        "colab_type": "text",
        "id": "T4JfEh7kvx6m"
      },
      "source": [
        "The image classifier is now trained to ~98% accuracy on this dataset. To learn more, read the [TensorFlow tutorials](https://www.tensorflow.org/tutorials/)."
      ]
    },
    {
      "cell_type": "code",
      "metadata": {
        "id": "Es2KxVifpiTj",
        "colab_type": "code",
        "colab": {}
      },
      "source": [
        "x_train.shape"
      ],
      "execution_count": 0,
      "outputs": []
    },
    {
      "cell_type": "code",
      "metadata": {
        "id": "5Den52XPpFf2",
        "colab_type": "code",
        "colab": {}
      },
      "source": [
        "model.predict_classes(x_train[50682:50683 , : ,:])"
      ],
      "execution_count": 0,
      "outputs": []
    },
    {
      "cell_type": "code",
      "metadata": {
        "id": "AAOHMHETpF-N",
        "colab_type": "code",
        "colab": {}
      },
      "source": [
        ""
      ],
      "execution_count": 0,
      "outputs": []
    },
    {
      "cell_type": "markdown",
      "metadata": {
        "id": "qcwk2z5qqO0M",
        "colab_type": "text"
      },
      "source": [
        "Expert part : **CNN for digit**"
      ]
    },
    {
      "cell_type": "code",
      "metadata": {
        "id": "D9mvaPObrGN4",
        "colab_type": "code",
        "colab": {}
      },
      "source": [
        "print(tf.__version__)"
      ],
      "execution_count": 0,
      "outputs": []
    },
    {
      "cell_type": "code",
      "metadata": {
        "id": "4HZ8aynNsafq",
        "colab_type": "code",
        "colab": {}
      },
      "source": [
        "help(keras.datasets)"
      ],
      "execution_count": 0,
      "outputs": []
    },
    {
      "cell_type": "code",
      "metadata": {
        "id": "ckhVtxOTshFA",
        "colab_type": "code",
        "colab": {}
      },
      "source": [
        "(X_train, y_train) , (X_test , y_test) = keras.datasets.fashion_mnist.load_data()"
      ],
      "execution_count": 0,
      "outputs": []
    },
    {
      "cell_type": "code",
      "metadata": {
        "id": "8iVdNj57s1Dd",
        "colab_type": "code",
        "colab": {}
      },
      "source": [
        "X_train.shape  , X_test.shape"
      ],
      "execution_count": 0,
      "outputs": []
    },
    {
      "cell_type": "code",
      "metadata": {
        "id": "q21l5OYutu85",
        "colab_type": "code",
        "colab": {}
      },
      "source": [
        "class_names = ['T-shirt/top', 'Trouser', 'Pullover', 'Dress', 'Coat',\n",
        "               'Sandal', 'Shirt', 'Sneaker', 'Bag', 'Ankle boot']"
      ],
      "execution_count": 0,
      "outputs": []
    },
    {
      "cell_type": "code",
      "metadata": {
        "id": "geWoUieqtGz2",
        "colab_type": "code",
        "colab": {}
      },
      "source": [
        "\n",
        "plt.figure(figsize= (8,8))\n",
        "for i in range(16):\n",
        "  plt.subplot(4,4,i+1)\n",
        "  x = np.random.randint(1,60000)\n",
        "  plt.imshow(X_train[x] , cmap = plt.cm.binary)\n",
        "  plt.xticks([])\n",
        "  plt.yticks([])\n",
        "  plt.xlabel(class_names[y_train[x]])\n"
      ],
      "execution_count": 0,
      "outputs": []
    },
    {
      "cell_type": "code",
      "metadata": {
        "id": "F31PkqNsuJDX",
        "colab_type": "code",
        "colab": {}
      },
      "source": [
        ""
      ],
      "execution_count": 0,
      "outputs": []
    },
    {
      "cell_type": "code",
      "metadata": {
        "id": "Xp28weRMtSZ3",
        "colab_type": "code",
        "colab": {}
      },
      "source": [
        ""
      ],
      "execution_count": 0,
      "outputs": []
    },
    {
      "cell_type": "code",
      "metadata": {
        "id": "8v3_8VyQuUuN",
        "colab_type": "code",
        "colab": {}
      },
      "source": [
        "model = keras.Sequential([\n",
        "    keras.layers.Flatten(input_shape = (28,28)),\n",
        "    keras.layers.Dense(128 , activation= 'relu'),\n",
        "    keras.layers.Dropout(.5),\n",
        "    keras.layers.BatchNormalization(),\n",
        "    keras.layers.Dense(128, activation = 'relu'),\n",
        "    keras.layers.BatchNormalization(),\n",
        "    keras.layers.Dense(10 , activation= 'softmax')]\n",
        ")"
      ],
      "execution_count": 0,
      "outputs": []
    },
    {
      "cell_type": "code",
      "metadata": {
        "id": "-VsZ_yYbvoXr",
        "colab_type": "code",
        "colab": {}
      },
      "source": [
        "model.compile(optimizer= 'adam',\n",
        "              loss = 'sparse_categorical_crossentropy',\n",
        "              metrics = ['accuracy'])"
      ],
      "execution_count": 0,
      "outputs": []
    },
    {
      "cell_type": "code",
      "metadata": {
        "id": "XHg2lk73wNbO",
        "colab_type": "code",
        "colab": {}
      },
      "source": [
        "model.fit(X_train ,y_train   , epochs= 10)"
      ],
      "execution_count": 0,
      "outputs": []
    },
    {
      "cell_type": "code",
      "metadata": {
        "id": "ylS0sK29wZUP",
        "colab_type": "code",
        "colab": {}
      },
      "source": [
        "_loss , _accuracy  = model.evaluate(X_test , y_test)"
      ],
      "execution_count": 0,
      "outputs": []
    },
    {
      "cell_type": "code",
      "metadata": {
        "id": "DycK99zE0HSf",
        "colab_type": "code",
        "colab": {}
      },
      "source": [
        "_accuracy"
      ],
      "execution_count": 0,
      "outputs": []
    },
    {
      "cell_type": "code",
      "metadata": {
        "id": "Lg_nedHg0R5c",
        "colab_type": "code",
        "colab": {}
      },
      "source": [
        "prediction = model.predict(X_test)"
      ],
      "execution_count": 0,
      "outputs": []
    },
    {
      "cell_type": "code",
      "metadata": {
        "id": "LOa-A1ul0Y1l",
        "colab_type": "code",
        "colab": {}
      },
      "source": [
        "\n",
        "np.argmax(prediction[0])"
      ],
      "execution_count": 0,
      "outputs": []
    },
    {
      "cell_type": "markdown",
      "metadata": {
        "id": "gVo9I_G52L-Q",
        "colab_type": "text"
      },
      "source": [
        "# CNN"
      ]
    },
    {
      "cell_type": "code",
      "metadata": {
        "id": "l58V6RjqB6MH",
        "colab_type": "code",
        "colab": {}
      },
      "source": [
        "X_train = X_train.astype('float32') / 255\n",
        "X_test = X_test.astype('float32') / 255"
      ],
      "execution_count": 0,
      "outputs": []
    },
    {
      "cell_type": "code",
      "metadata": {
        "id": "-JiCUibIEY2o",
        "colab_type": "code",
        "colab": {}
      },
      "source": [
        "\n"
      ],
      "execution_count": 0,
      "outputs": []
    },
    {
      "cell_type": "code",
      "metadata": {
        "id": "6nW5eyR1FJJ8",
        "colab_type": "code",
        "colab": {}
      },
      "source": [
        "#RESHAPE\n",
        "X_train = X_train.reshape(-1,28,28,1)\n",
        "X_test = X_test.reshape(-1,28,28,1)"
      ],
      "execution_count": 0,
      "outputs": []
    },
    {
      "cell_type": "code",
      "metadata": {
        "id": "6FYbxX9c0f5x",
        "colab_type": "code",
        "colab": {}
      },
      "source": [
        "cnn_model =  keras.Sequential([\n",
        "                              keras.layers.Conv2D(64 , input_shape = (28,28,1) , kernel_size = 3  , activation='relu'),\n",
        "                              #keras.layers.Dropout(.3),\n",
        "                              keras.layers.MaxPool2D(),\n",
        "                              keras.layers.BatchNormalization(), \n",
        "                              keras.layers.Conv2D(32 , kernel_size = 3 , activation = 'relu' ),\n",
        "                              #keras.layers.Dropout(.3),\n",
        "                              keras.layers.MaxPool2D(),\n",
        "                              keras.layers.BatchNormalization(), \n",
        "                              #keras.layers.Dense(50 , activation = 'relu') ,\n",
        "                              keras.layers.Flatten(),\n",
        "                              keras.layers.Dense(10 , activation= 'softmax')\n",
        "                              ])"
      ],
      "execution_count": 0,
      "outputs": []
    },
    {
      "cell_type": "code",
      "metadata": {
        "id": "f9qiipeV4mNc",
        "colab_type": "code",
        "colab": {}
      },
      "source": [
        "cnn_model.compile( optimizer = 'adam'  ,\n",
        "              loss = 'sparse_categorical_crossentropy',\n",
        "              metrics = ['accuracy'])"
      ],
      "execution_count": 0,
      "outputs": []
    },
    {
      "cell_type": "code",
      "metadata": {
        "id": "bC7SalPj_9Mb",
        "colab_type": "code",
        "colab": {}
      },
      "source": [
        "cnn_model.summary()"
      ],
      "execution_count": 0,
      "outputs": []
    },
    {
      "cell_type": "code",
      "metadata": {
        "id": "aCL3xWz_83ER",
        "colab_type": "code",
        "colab": {}
      },
      "source": [
        "cnn_model.fit(X_train , y_train  , epochs = 3)"
      ],
      "execution_count": 0,
      "outputs": []
    },
    {
      "cell_type": "code",
      "metadata": {
        "id": "WsBGhbRfBGOb",
        "colab_type": "code",
        "colab": {}
      },
      "source": [
        "cnn_model.evaluate(X_test , y_test)"
      ],
      "execution_count": 0,
      "outputs": []
    },
    {
      "cell_type": "code",
      "metadata": {
        "id": "s8UQN1l9BDpW",
        "colab_type": "code",
        "colab": {}
      },
      "source": [
        ""
      ],
      "execution_count": 0,
      "outputs": []
    },
    {
      "cell_type": "markdown",
      "metadata": {
        "id": "haIws7uP1-Ms",
        "colab_type": "text"
      },
      "source": [
        "# Text Classification"
      ]
    },
    {
      "cell_type": "code",
      "metadata": {
        "id": "FEaeky8K129Q",
        "colab_type": "code",
        "colab": {}
      },
      "source": [
        ""
      ],
      "execution_count": 0,
      "outputs": []
    },
    {
      "cell_type": "code",
      "metadata": {
        "id": "_BtRpX-U1_k0",
        "colab_type": "code",
        "colab": {}
      },
      "source": [
        "tf.executing_eagerly()"
      ],
      "execution_count": 0,
      "outputs": []
    },
    {
      "cell_type": "code",
      "metadata": {
        "id": "AaMZ77kJ3uQN",
        "colab_type": "code",
        "colab": {}
      },
      "source": [
        "train_validation_split = tfds.Split.TRAIN.subsplit([7, 3])"
      ],
      "execution_count": 0,
      "outputs": []
    },
    {
      "cell_type": "code",
      "metadata": {
        "id": "r5GE7o8p31IT",
        "colab_type": "code",
        "colab": {}
      },
      "source": [
        "(train_data, validation_data), test_data = tfds.load(\n",
        "    name=\"imdb_reviews\", \n",
        "    split=(train_validation_split, tfds.Split.TEST),\n",
        "    as_supervised=True)"
      ],
      "execution_count": 0,
      "outputs": []
    },
    {
      "cell_type": "code",
      "metadata": {
        "id": "pO_0Z7D739NY",
        "colab_type": "code",
        "colab": {}
      },
      "source": [
        "train_examples_batch, train_labels_batch = next(iter(train_data.batch(10)))\n",
        "train_examples_batch"
      ],
      "execution_count": 0,
      "outputs": []
    },
    {
      "cell_type": "code",
      "metadata": {
        "id": "Btej-i7v6KT0",
        "colab_type": "code",
        "colab": {}
      },
      "source": [
        "embedding = \"https://tfhub.dev/google/tf2-preview/gnews-swivel-20dim/1\"\n",
        "hub_layer = hub.KerasLayer(embedding, input_shape=[], \n",
        "                           dtype=tf.string, trainable=True)"
      ],
      "execution_count": 0,
      "outputs": []
    },
    {
      "cell_type": "markdown",
      "metadata": {
        "id": "IRvNEOFe6so1",
        "colab_type": "text"
      },
      "source": [
        "Embedding of each sentence of the first three sentences"
      ]
    },
    {
      "cell_type": "code",
      "metadata": {
        "id": "kNu0HclL6P8v",
        "colab_type": "code",
        "colab": {}
      },
      "source": [
        "hub_layer(train_examples_batch[:3])"
      ],
      "execution_count": 0,
      "outputs": []
    },
    {
      "cell_type": "code",
      "metadata": {
        "id": "zdcIJqgs6PwN",
        "colab_type": "code",
        "colab": {}
      },
      "source": [
        ""
      ],
      "execution_count": 0,
      "outputs": []
    },
    {
      "cell_type": "markdown",
      "metadata": {
        "id": "WVAwa9eL6rPa",
        "colab_type": "text"
      },
      "source": [
        "Keras Model"
      ]
    },
    {
      "cell_type": "code",
      "metadata": {
        "id": "H64gy52p6_Hx",
        "colab_type": "code",
        "colab": {}
      },
      "source": [
        "text_binary_classifier =keras.models.Sequential([\n",
        "                         hub.KerasLayer(embedding, input_shape=[],dtype=tf.string, trainable=True),\n",
        "                         keras.layers.Dense(16 , activation= 'relu'),\n",
        "                         keras.layers.Dense(1 , activation= 'sigmoid')\n",
        "\n",
        "\n",
        "\n",
        "])"
      ],
      "execution_count": 0,
      "outputs": []
    },
    {
      "cell_type": "code",
      "metadata": {
        "id": "tF-ZKzLO8oCP",
        "colab_type": "code",
        "colab": {}
      },
      "source": [
        "text_binary_classifier.summary()"
      ],
      "execution_count": 0,
      "outputs": []
    },
    {
      "cell_type": "code",
      "metadata": {
        "id": "pdjjJJLi8xvh",
        "colab_type": "code",
        "colab": {}
      },
      "source": [
        "text_binary_classifier.compile(optimizer=\"adam\" ,\n",
        "                               loss = 'binary_crossentropy',\n",
        "                               metrics = ['accuracy'])"
      ],
      "execution_count": 0,
      "outputs": []
    },
    {
      "cell_type": "code",
      "metadata": {
        "id": "TpZ8sCmA9grg",
        "colab_type": "code",
        "colab": {}
      },
      "source": [
        "text_binary_classifier.fit(train_data.shuffle(1000).batch(512) , epochs = 20 ,\n",
        "                           validation_data  = validation_data.batch(512) ,\n",
        "                           verbose = 1)"
      ],
      "execution_count": 0,
      "outputs": []
    },
    {
      "cell_type": "code",
      "metadata": {
        "id": "br2CuP04-h6S",
        "colab_type": "code",
        "colab": {}
      },
      "source": [
        "text_binary_classifier.evaluate(test_data.batch(512))"
      ],
      "execution_count": 0,
      "outputs": []
    },
    {
      "cell_type": "code",
      "metadata": {
        "id": "VXYqv9Hg_rHf",
        "colab_type": "code",
        "colab": {}
      },
      "source": [
        "exampleBad = np.array(['This movie was extremly boring , I almost slept'])\n",
        "text_binary_classifier.predict(exampleBad)"
      ],
      "execution_count": 0,
      "outputs": []
    },
    {
      "cell_type": "code",
      "metadata": {
        "id": "1_RunwC__0vK",
        "colab_type": "code",
        "colab": {}
      },
      "source": [
        "exampleGood = np.array(['This has to be the best movie I ever saw'])\n",
        "text_binary_classifier.predict(exampleGood)"
      ],
      "execution_count": 0,
      "outputs": []
    },
    {
      "cell_type": "code",
      "metadata": {
        "id": "AgfJQcrxAHIn",
        "colab_type": "code",
        "colab": {}
      },
      "source": [
        "text_binary_classifier.summary()"
      ],
      "execution_count": 0,
      "outputs": []
    },
    {
      "cell_type": "markdown",
      "metadata": {
        "id": "BdgQhux_Jq6B",
        "colab_type": "text"
      },
      "source": [
        "Another Text classifier for IMDB\n",
        "Train your own **Embeddings**"
      ]
    },
    {
      "cell_type": "code",
      "metadata": {
        "id": "1BKtAwZMFr5M",
        "colab_type": "code",
        "colab": {}
      },
      "source": [
        "(train_data, test_data), info = tfds.load(\n",
        "    # Use the version pre-encoded with an ~8k vocabulary.\n",
        "    'imdb_reviews/subwords8k', \n",
        "    # Return the train/test datasets as a tuple.\n",
        "    split = (tfds.Split.TRAIN, tfds.Split.TEST),\n",
        "    # Return (example, label) pairs from the dataset (instead of a dictionary).\n",
        "    as_supervised=True,\n",
        "    # Also return the `info` structure. \n",
        "    with_info=True)"
      ],
      "execution_count": 0,
      "outputs": []
    },
    {
      "cell_type": "code",
      "metadata": {
        "id": "QauFVOsUGETL",
        "colab_type": "code",
        "colab": {}
      },
      "source": [
        "encoder = info.features['text'].encoder"
      ],
      "execution_count": 0,
      "outputs": []
    },
    {
      "cell_type": "code",
      "metadata": {
        "id": "33I7zR9VKOyJ",
        "colab_type": "code",
        "colab": {}
      },
      "source": [
        "info.features"
      ],
      "execution_count": 0,
      "outputs": []
    },
    {
      "cell_type": "markdown",
      "metadata": {
        "id": "oNwQXCQHKaU1",
        "colab_type": "text"
      },
      "source": [
        "Prepare the data for Training"
      ]
    },
    {
      "cell_type": "code",
      "metadata": {
        "id": "YlC3wOwlKVKO",
        "colab_type": "code",
        "colab": {}
      },
      "source": [
        "BUFFER = 1000\n",
        "train_batch = ( train_data.shuffle(BUFFER).padded_batch(32 ,  train_data.output_shapes))\n",
        "test_batch = ( test_data.padded_batch(32, train_data.output_shapes) ) "
      ],
      "execution_count": 0,
      "outputs": []
    },
    {
      "cell_type": "code",
      "metadata": {
        "id": "oKqcR9nVK78j",
        "colab_type": "code",
        "colab": {}
      },
      "source": [
        "for example_batch, label_batch in train_batch.take(1):\n",
        "  print(\"Batch shape:\", example_batch.shape)\n",
        "  print(\"label shape:\", label_batch.shape)\n",
        "  "
      ],
      "execution_count": 0,
      "outputs": []
    },
    {
      "cell_type": "code",
      "metadata": {
        "id": "F3EFch2BK_65",
        "colab_type": "code",
        "colab": {}
      },
      "source": [
        "model = keras.Sequential([\n",
        "                          keras.layers.Embedding(encoder.vocab_size , 16),\n",
        "                          keras.layers.GlobalAvgPool1D(),\n",
        "                          keras.layers.Dense(1, activation='sigmoid')\n",
        "\n",
        "])"
      ],
      "execution_count": 0,
      "outputs": []
    },
    {
      "cell_type": "code",
      "metadata": {
        "id": "15LTwkoMLzSS",
        "colab_type": "code",
        "colab": {}
      },
      "source": [
        "model.summary()"
      ],
      "execution_count": 0,
      "outputs": []
    },
    {
      "cell_type": "code",
      "metadata": {
        "id": "nk0TopVpOMw-",
        "colab_type": "code",
        "colab": {}
      },
      "source": [
        "model.compile(optimizer='adam',\n",
        "              loss = 'binary_crossentropy',\n",
        "              metrics = ['accuracy'])"
      ],
      "execution_count": 0,
      "outputs": []
    },
    {
      "cell_type": "code",
      "metadata": {
        "id": "Y9TpS5j8PSfx",
        "colab_type": "code",
        "colab": {}
      },
      "source": [
        "history = model.fit(train_batch , epochs = 5, validation_data= test_batch )"
      ],
      "execution_count": 0,
      "outputs": []
    },
    {
      "cell_type": "code",
      "metadata": {
        "id": "sTb0l_XhPuO7",
        "colab_type": "code",
        "colab": {}
      },
      "source": [
        "history.history"
      ],
      "execution_count": 0,
      "outputs": []
    },
    {
      "cell_type": "markdown",
      "metadata": {
        "id": "RGZx8pewTw8D",
        "colab_type": "text"
      },
      "source": [
        "history.history is a dictonary to help you visualize the training / validation accuracy and other metrices\n"
      ]
    },
    {
      "cell_type": "code",
      "metadata": {
        "id": "7C-E8RwMRlsp",
        "colab_type": "code",
        "colab": {}
      },
      "source": [
        ""
      ],
      "execution_count": 0,
      "outputs": []
    },
    {
      "cell_type": "markdown",
      "metadata": {
        "id": "nGIn7hdDUDCb",
        "colab_type": "text"
      },
      "source": [
        "# Tabular Data / Simple Regression "
      ]
    },
    {
      "cell_type": "code",
      "metadata": {
        "id": "QFF-eY-cUFoy",
        "colab_type": "code",
        "colab": {}
      },
      "source": [
        "dataset_path = keras.utils.get_file(\"auto-mpg.data\", \"http://archive.ics.uci.edu/ml/machine-learning-databases/auto-mpg/auto-mpg.data\")"
      ],
      "execution_count": 0,
      "outputs": []
    },
    {
      "cell_type": "code",
      "metadata": {
        "id": "KFTOZlRd0MjY",
        "colab_type": "code",
        "colab": {}
      },
      "source": [
        "raw_dataset = pd.read_csv(dataset_path, names = column_names,\n",
        "                      na_values = \"?\", comment='\\t',\n",
        "                      sep=\" \", skipinitialspace=True)"
      ],
      "execution_count": 0,
      "outputs": []
    },
    {
      "cell_type": "code",
      "metadata": {
        "id": "rA9t4jzh0tu8",
        "colab_type": "code",
        "colab": {}
      },
      "source": [
        "column_names = ['MPG','Cylinders','Displacement','Horsepower','Weight',\n",
        "                'Acceleration', 'Model Year', 'Origin']"
      ],
      "execution_count": 0,
      "outputs": []
    },
    {
      "cell_type": "code",
      "metadata": {
        "id": "p1qVYDjz0UaR",
        "colab_type": "code",
        "colab": {}
      },
      "source": [
        "raw_dataset.tail()"
      ],
      "execution_count": 0,
      "outputs": []
    },
    {
      "cell_type": "markdown",
      "metadata": {
        "id": "FwMY3SJ5_NVF",
        "colab_type": "text"
      },
      "source": [
        "Plot"
      ]
    },
    {
      "cell_type": "code",
      "metadata": {
        "id": "n7wIPVEl_L5r",
        "colab_type": "code",
        "colab": {}
      },
      "source": [
        "sn.pairplot(raw_dataset[['Cylinders','Horsepower',\t'Weight',\t'Acceleration']])"
      ],
      "execution_count": 0,
      "outputs": []
    },
    {
      "cell_type": "code",
      "metadata": {
        "id": "DyKsQTOK0ZNr",
        "colab_type": "code",
        "colab": {}
      },
      "source": [
        "raw_dataset.fillna(raw_dataset.median() , inplace = True)"
      ],
      "execution_count": 0,
      "outputs": []
    },
    {
      "cell_type": "code",
      "metadata": {
        "id": "8Rd9iNpN1bsv",
        "colab_type": "code",
        "colab": {}
      },
      "source": [
        "orig_dic = {1: 'USA', 2: 'Europe', 3: 'Japan'}"
      ],
      "execution_count": 0,
      "outputs": []
    },
    {
      "cell_type": "code",
      "metadata": {
        "id": "QIbN5bw-6WeF",
        "colab_type": "code",
        "colab": {}
      },
      "source": [
        "raw_dataset['Origin'].replace(orig_dic , inplace = True)"
      ],
      "execution_count": 0,
      "outputs": []
    },
    {
      "cell_type": "code",
      "metadata": {
        "id": "ZuAjz-es1ngc",
        "colab_type": "code",
        "colab": {}
      },
      "source": [
        "raw_dataset = pd.get_dummies( raw_dataset , prefix= '' , prefix_sep= '' )"
      ],
      "execution_count": 0,
      "outputs": []
    },
    {
      "cell_type": "code",
      "metadata": {
        "id": "EDIFbHlo1ncu",
        "colab_type": "code",
        "colab": {}
      },
      "source": [
        "\n",
        "raw_dataset.tail()"
      ],
      "execution_count": 0,
      "outputs": []
    },
    {
      "cell_type": "code",
      "metadata": {
        "id": "dVNuoN00-Fln",
        "colab_type": "code",
        "colab": {}
      },
      "source": [
        "target = raw_dataset.pop('MPG')"
      ],
      "execution_count": 0,
      "outputs": []
    },
    {
      "cell_type": "code",
      "metadata": {
        "id": "6YPcMcAr-Otj",
        "colab_type": "code",
        "colab": {}
      },
      "source": [
        "raw_dataset.tail()"
      ],
      "execution_count": 0,
      "outputs": []
    },
    {
      "cell_type": "code",
      "metadata": {
        "id": "rs6Y6Xnu1nWr",
        "colab_type": "code",
        "colab": {}
      },
      "source": [
        "from sklearn.preprocessing import StandardScaler\n",
        "from sklearn.model_selection import train_test_split"
      ],
      "execution_count": 0,
      "outputs": []
    },
    {
      "cell_type": "code",
      "metadata": {
        "id": "lRvDhbRr8p1v",
        "colab_type": "code",
        "colab": {}
      },
      "source": [
        "scaler = StandardScaler()\n",
        "scaled_data = scaler.fit_transform(raw_dataset)"
      ],
      "execution_count": 0,
      "outputs": []
    },
    {
      "cell_type": "code",
      "metadata": {
        "id": "0_bhfYHj9MaZ",
        "colab_type": "code",
        "colab": {}
      },
      "source": [
        "Xtrain , Xtest , ytrain , ytest = train_test_split(scaled_data , target   , test_size = .2)"
      ],
      "execution_count": 0,
      "outputs": []
    },
    {
      "cell_type": "markdown",
      "metadata": {
        "id": "XlswTCg_-llV",
        "colab_type": "text"
      },
      "source": [
        "### Regression in tf"
      ]
    },
    {
      "cell_type": "code",
      "metadata": {
        "id": "FS0tGyLlAiYq",
        "colab_type": "code",
        "colab": {}
      },
      "source": [
        "input_shape = Xtrain.shape[1]"
      ],
      "execution_count": 0,
      "outputs": []
    },
    {
      "cell_type": "code",
      "metadata": {
        "id": "F6Bonz4z9jtm",
        "colab_type": "code",
        "colab": {}
      },
      "source": [
        "tabular = keras.models.Sequential([\n",
        "                         keras.layers.Dense(64 , activation  = 'relu' , input_shape =[ input_shape]),\n",
        "                         keras.layers.Dense(32 , activation= 'relu'),\n",
        "                         keras.layers.Dense(1 )\n",
        "])\n",
        "\n",
        "tabular.compile(loss = keras.losses.mse , optimizer = tf.keras.optimizers.RMSprop(0.01) , metrics = ['mae' , 'mse'])\n",
        "\n"
      ],
      "execution_count": 0,
      "outputs": []
    },
    {
      "cell_type": "code",
      "metadata": {
        "id": "vGBFjqxWB986",
        "colab_type": "code",
        "colab": {}
      },
      "source": [
        "tabular.summary()"
      ],
      "execution_count": 0,
      "outputs": []
    },
    {
      "cell_type": "code",
      "metadata": {
        "id": "pcmItQqICh8Q",
        "colab_type": "code",
        "colab": {}
      },
      "source": [
        ""
      ],
      "execution_count": 0,
      "outputs": []
    },
    {
      "cell_type": "markdown",
      "metadata": {
        "id": "hiSGGFqGCjW5",
        "colab_type": "text"
      },
      "source": [
        "check if it is working\n"
      ]
    },
    {
      "cell_type": "code",
      "metadata": {
        "id": "xMjFQPM6CWdG",
        "colab_type": "code",
        "colab": {}
      },
      "source": [
        "example_batch = Xtrain[:10]"
      ],
      "execution_count": 0,
      "outputs": []
    },
    {
      "cell_type": "code",
      "metadata": {
        "id": "jcGMRhbUCg1N",
        "colab_type": "code",
        "colab": {}
      },
      "source": [
        "tabular.predict(example_batch)"
      ],
      "execution_count": 0,
      "outputs": []
    },
    {
      "cell_type": "markdown",
      "metadata": {
        "id": "rGmr7ju4DBAv",
        "colab_type": "text"
      },
      "source": [
        "train the model , use callbacks to save stas about the training\n"
      ]
    },
    {
      "cell_type": "code",
      "metadata": {
        "id": "3AKDS8AJDnQI",
        "colab_type": "code",
        "colab": {}
      },
      "source": [
        "#import tensorflow_docs as tfdocs\n",
        "#import tensorflow_docs.plots\n",
        "#import tensorflow."
      ],
      "execution_count": 0,
      "outputs": []
    },
    {
      "cell_type": "code",
      "metadata": {
        "id": "c-ZJrD-iCsBM",
        "colab_type": "code",
        "colab": {}
      },
      "source": [
        "EPOCHS = 500\n",
        "\n",
        "history = tabular.fit(Xtrain , ytrain.values , epochs = EPOCHS , validation_split = .1 , verbose = 1)"
      ],
      "execution_count": 0,
      "outputs": []
    },
    {
      "cell_type": "code",
      "metadata": {
        "id": "CRiY3280Ean1",
        "colab_type": "code",
        "colab": {}
      },
      "source": [
        "pd.DataFrame(history.history)"
      ],
      "execution_count": 0,
      "outputs": []
    },
    {
      "cell_type": "code",
      "metadata": {
        "id": "r_iK1YGHHYm8",
        "colab_type": "code",
        "colab": {}
      },
      "source": [
        "Xtest.shape"
      ],
      "execution_count": 0,
      "outputs": []
    },
    {
      "cell_type": "code",
      "metadata": {
        "id": "PaFHI9ptHq2Z",
        "colab_type": "code",
        "colab": {}
      },
      "source": [
        "tabular.predict(Xtest[:10]).flatten() - ytest[:10].values"
      ],
      "execution_count": 0,
      "outputs": []
    },
    {
      "cell_type": "code",
      "metadata": {
        "id": "dTMriHUFH2vi",
        "colab_type": "code",
        "colab": {}
      },
      "source": [
        ""
      ],
      "execution_count": 0,
      "outputs": []
    }
  ]
}